{
 "cells": [
  {
   "cell_type": "markdown",
   "metadata": {},
   "source": [
    "Lista de exercícios do site Python Brasil\n",
    "https://wiki.python.org.br/EstruturaSequencial"
   ]
  },
  {
   "cell_type": "markdown",
   "metadata": {
    "vscode": {
     "languageId": "plaintext"
    }
   },
   "source": [
    "1. Faça um Programa que mostre a mensagem \"Alo mundo\" na tela."
   ]
  },
  {
   "cell_type": "code",
   "execution_count": 1,
   "metadata": {},
   "outputs": [
    {
     "name": "stdout",
     "output_type": "stream",
     "text": [
      "Hello, World!\n"
     ]
    }
   ],
   "source": [
    "print(\"Hello, World!\")"
   ]
  },
  {
   "cell_type": "markdown",
   "metadata": {},
   "source": [
    "2. Faça um Programa que peça um número e então mostre a mensagem O número informado foi [número].\n",
    "\n"
   ]
  },
  {
   "cell_type": "code",
   "execution_count": 3,
   "metadata": {},
   "outputs": [
    {
     "name": "stdout",
     "output_type": "stream",
     "text": [
      "The number entered was: 1234\n"
     ]
    }
   ],
   "source": [
    "number = input(\"Please enter a number\\n\")\n",
    "print(f\"The number entered was: {number}\")"
   ]
  },
  {
   "cell_type": "markdown",
   "metadata": {},
   "source": [
    "3. Faça um Programa que peça dois números e imprima a soma.\n"
   ]
  },
  {
   "cell_type": "code",
   "execution_count": 2,
   "metadata": {},
   "outputs": [
    {
     "name": "stdout",
     "output_type": "stream",
     "text": [
      "The sum is: 4.0\n"
     ]
    }
   ],
   "source": [
    "import re\n",
    "def get_number():\n",
    "    while True:\n",
    "        user_number = input(\"Please enter a number\\n\")\n",
    "        if re.match(r'^-?\\d+(\\.\\d+)?$', user_number): \n",
    "            return float(user_number) \n",
    "        else: \n",
    "            print(\"Invalid input. Please enter a number.\")\n",
    "        \n",
    "number_1 = get_number()\n",
    "number_2 = get_number()\n",
    "print(f\"The sum is: {number_1 + number_2}\")"
   ]
  },
  {
   "cell_type": "markdown",
   "metadata": {},
   "source": [
    "4. Faça um Programa que peça as 4 notas bimestrais e mostre a média."
   ]
  },
  {
   "cell_type": "code",
   "execution_count": null,
   "metadata": {},
   "outputs": [
    {
     "name": "stdout",
     "output_type": "stream",
     "text": [
      "The average is: 4.0\n"
     ]
    }
   ],
   "source": [
    "import re\n",
    "def get_grade():\n",
    "    while True:\n",
    "        user_number = input(\"Please enter the grade\\n\")\n",
    "        if re.match(r'^-?\\d+(\\.\\d+)?$', user_number): \n",
    "            return float(user_number) \n",
    "        else: \n",
    "            print(\"Invalid input. Please enter the grade.\")\n",
    "            \n",
    "grades = []\n",
    "for i in range(4):\n",
    "    grades.append(get_grade())\n",
    "\n",
    "average = sum(grades) / len(grades)\n",
    "print(f\"The average is: {average}\")"
   ]
  },
  {
   "cell_type": "markdown",
   "metadata": {},
   "source": [
    "5. Faça um Programa que converta metros para centímetros."
   ]
  },
  {
   "cell_type": "code",
   "execution_count": 6,
   "metadata": {},
   "outputs": [
    {
     "name": "stdout",
     "output_type": "stream",
     "text": [
      "1.78 meters is equal to 178.0 centimeters\n"
     ]
    }
   ],
   "source": [
    "def get_meters():\n",
    "    while True:\n",
    "        user_number = input(\"Please enter the number of meters\\n\")\n",
    "        if re.match(r'^-?\\d+(\\.\\d+)?$', user_number): \n",
    "            return float(user_number) \n",
    "        else: \n",
    "            print(\"Invalid input. Please enter a number.\")\n",
    "\n",
    "\n",
    "meters = get_meters()\n",
    "\n",
    "\n",
    "print(f\"{meters} meters is equal to {meters * 100} centimeters\")\n"
   ]
  },
  {
   "cell_type": "code",
   "execution_count": null,
   "metadata": {},
   "outputs": [],
   "source": []
  }
 ],
 "metadata": {
  "kernelspec": {
   "display_name": "python-basics-for-data-science-ibm-iYp3TB4I-py3.12",
   "language": "python",
   "name": "python3"
  },
  "language_info": {
   "codemirror_mode": {
    "name": "ipython",
    "version": 3
   },
   "file_extension": ".py",
   "mimetype": "text/x-python",
   "name": "python",
   "nbconvert_exporter": "python",
   "pygments_lexer": "ipython3",
   "version": "3.12.3"
  }
 },
 "nbformat": 4,
 "nbformat_minor": 2
}
